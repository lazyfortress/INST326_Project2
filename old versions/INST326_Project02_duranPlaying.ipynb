{
 "cells": [
  {
   "cell_type": "markdown",
   "id": "bc00dbc1",
   "metadata": {},
   "source": [
    "### Project 02: Create a GUI Notebook Program"
   ]
  },
  {
   "cell_type": "raw",
   "id": "5aad46fe-ff32-4bc6-a98f-e7fad4a5e276",
   "metadata": {},
   "source": [
    "Duran Keefe 3/30/2024"
   ]
  },
  {
   "cell_type": "markdown",
   "id": "62110c98",
   "metadata": {},
   "source": [
    "Project 2 will adapt the procedural code we have been working on in INST326_SimpleGUI_Note_Form_IO.ipynb to create an OOP version of the program using three classes.\n",
    "\n",
    "    A Notebook or MainWindow class\n",
    "    A Form or TopWindow class\n",
    "    A Note class\n",
    "\n",
    "The MainWindow class is a subclass of Tkinter’s tk.Tk class and thus inherits its attributes and methods, while allowing us to customize the new window objects to our needs. These new window objects will represent “notebooks” or collections of notes, and allow us to work with those notes. (I have named it MainWindow because this class definition could be used to create any kind of main window in Tkinter. We are using it to represent notebooks in this application, but you might use it for other purposes in onther applications.)\n"
   ]
  },
  {
   "cell_type": "markdown",
   "id": "67692272",
   "metadata": {},
   "source": [
    "The TopWindow class creates a new top window in Tkinter, which is essentially a form for entering the title, text, links, and tags for our note. When we submit the note, this “form” object has a method that creates the note’s metadata and a new Note object. That note object is appended to the list of all notes, which is an attribute of the notebook (MainWindow) class.\n",
    "The Note class creates note objects that contain the  title, text, links, tags, and metadata for each note.\n",
    "\n",
    "For Project 02 you will:  \n",
    "\n",
    "    1. Create one notebook or MainWindow object  \n",
    "    2. Create several (at least 3) ‘real’ notes for your final submission. By ‘real’ I mean actual notes about python that are useful to you. Print them in the cell at the bottom of the notebook.\n",
    "    3. Save those notes to a single .txt, .csv, or .json file (your choice of format).  \n",
    "    4. Retrieve those notes and \n",
    "    5. Display representations of them as either labels or buttons in the  main window (remember how we displayed cards in project 01). These representations are not whole notes. Rather, they are object representations of the notes.  \n",
    "    6. When they are clicked the whole note pops up in a new window - either the form window or a ‘read-only’ version of the form window.\n",
    "\n"
   ]
  },
  {
   "cell_type": "markdown",
   "id": "cd7630c0",
   "metadata": {},
   "source": [
    "#### Complete your code in the cell below"
   ]
  },
  {
   "cell_type": "markdown",
   "id": "50f0a965",
   "metadata": {},
   "source": [
    "The code cell below contains the imports you will need; the top level structure for the three classes to get you started; and the execution code at the bottom. "
   ]
  },
  {
   "cell_type": "code",
   "execution_count": null,
   "id": "57954c28",
   "metadata": {},
   "outputs": [
    {
     "name": "stdout",
     "output_type": "stream",
     "text": [
      "{'title': 'Test1', 'text': 'test 1: Will the note save? And will it keep tags? Not using linkes, so writing none\\n', 'links': 'None', 'tags': '#testSave, #testTag', 'metadata': '2024-04-21 16:47:57'}\n"
     ]
    }
   ],
   "source": [
    "import tkinter as tk\n",
    "from tkinter import ttk\n",
    "import datetime\n",
    "import json\n",
    "\n",
    "class Note: \n",
    "    #d = {} \n",
    "    #d[title] = title \n",
    "    #... \n",
    "    #Note(d)  \n",
    "     #...inside init of Note (__ini__t(self,nd) \n",
    "    #self.title = nd[title]\n",
    "    def __init__(self, title, text, links, tags, metadata):\n",
    "        self.title = title\n",
    "        self.text = text\n",
    "        self.links = links\n",
    "        self.tags = tags\n",
    "        self.metadata = metadata\n",
    "\n",
    "class MainWindow(tk.Tk):\n",
    "    def __init__(self):\n",
    "        super().__init__()\n",
    "        self.geometry(\"600x400\")\n",
    "        self.title('Notebook')\n",
    "        self.notebook = []\n",
    "        self.load_notes()\n",
    "\n",
    "        new_button = ttk.Button(self, text=\"Create New Note\", command=self.new_note)\n",
    "        new_button.pack()\n",
    "        self.note_buttons = []\n",
    "\n",
    "    def new_note(self):\n",
    "        note_window = NoteForm(self)\n",
    "        self.wait_window(note_window)\n",
    "        if note_window.note_data:\n",
    "            self.create_note(note_window.note_data)\n",
    "            self.update_note_buttons()\n",
    "\n",
    "    def create_note(self, note_data):\n",
    "        self.notebook.append(Note(**note_data))\n",
    "        self.save_notes()\n",
    "\n",
    "    def update_note_buttons(self):\n",
    "        for button in self.note_buttons:\n",
    "            button.destroy()\n",
    "        self.note_buttons = []\n",
    "        for i, note in enumerate(self.notebook):\n",
    "            button = ttk.Button(self, text=note.title, command=lambda idx=i: self.open_note(idx))\n",
    "            button.pack()\n",
    "            self.note_buttons.append(button)\n",
    "\n",
    "    def open_note(self, idx):\n",
    "        note_window = NoteForm(self, edit_mode=True, note_data=self.notebook[idx].__dict__)\n",
    "        self.wait_window(note_window)\n",
    "\n",
    "    def save_notes(self):\n",
    "        with open('notes.json', 'w') as file:\n",
    "            json.dump([note.__dict__ for note in self.notebook], file)\n",
    "\n",
    "    def load_notes(self):\n",
    "        try:\n",
    "            with open('notes.json', 'r') as file:\n",
    "                data = json.load(file)\n",
    "                self.notebook = [Note(**note_data) for note_data in data]\n",
    "        except FileNotFoundError:\n",
    "            self.notebook = [] \n",
    "\n",
    "    def delete_notes(self) : \n",
    "        self.notebook = []\n",
    "\n",
    "class NoteForm(tk.Toplevel):\n",
    "    def __init__(self, master, edit_mode=False, note_data=None):\n",
    "        super().__init__(master)\n",
    "        self.title(\"Note Form\")\n",
    "        self.note_data = None\n",
    "\n",
    "        self.title_label = ttk.Label(self, text=\"Title:\")\n",
    "        self.title_label.grid(row=0, column=0)\n",
    "        self.title_entry = ttk.Entry(self)\n",
    "        self.title_entry.grid(row=0, column=1)\n",
    "\n",
    "        self.text_label = ttk.Label(self, text=\"Text:\")\n",
    "        self.text_label.grid(row=1, column=0)\n",
    "        self.text_entry = tk.Text(self, width=40, height=10)\n",
    "        self.text_entry.grid(row=1, column=1)\n",
    "\n",
    "        self.links_label = ttk.Label(self, text=\"Links:\")\n",
    "        self.links_label.grid(row=2, column=0)\n",
    "        self.links_entry = ttk.Entry(self)\n",
    "        self.links_entry.grid(row=2, column=1)\n",
    "\n",
    "        self.tags_label = ttk.Label(self, text=\"Tags:\")\n",
    "        self.tags_label.grid(row=3, column=0)\n",
    "        self.tags_entry = ttk.Entry(self)\n",
    "        self.tags_entry.grid(row=3, column=1)\n",
    "\n",
    "        self.submit_button = ttk.Button(self, text=\"Submit\", command=self.submit)\n",
    "        self.submit_button.grid(row=4, columnspan=2)\n",
    "\n",
    "        if edit_mode:\n",
    "            self.title_entry.insert(0, note_data['title'])\n",
    "            self.text_entry.insert(tk.END, note_data['text'])\n",
    "            self.links_entry.insert(0, note_data['links'])\n",
    "            self.tags_entry.insert(0, note_data['tags'])\n",
    "\n",
    "    def submit(self):\n",
    "        title = self.title_entry.get()\n",
    "        text = self.text_entry.get(\"1.0\", tk.END)\n",
    "        links = self.links_entry.get()\n",
    "        tags = self.tags_entry.get()\n",
    "        metadata = datetime.datetime.now().strftime(\"%Y-%m-%d %H:%M:%S\")\n",
    "        self.note_data = {'title': title, 'text': text, 'links': links, 'tags': tags, 'metadata': metadata}\n",
    "        print(self.note_data)\n",
    "        self.destroy()\n",
    "\n",
    "if __name__ == '__main__':\n",
    "    main_window = MainWindow()\n",
    "    main_window.update_note_buttons()\n",
    "    main_window.mainloop()\n"
   ]
  },
  {
   "cell_type": "code",
   "execution_count": null,
   "id": "dd1811bf",
   "metadata": {},
   "outputs": [],
   "source": [
    "# print your notes here"
   ]
  },
  {
   "cell_type": "code",
   "execution_count": null,
   "id": "adc0b110-a142-4f76-a1e3-60613cf45792",
   "metadata": {},
   "outputs": [],
   "source": []
  }
 ],
 "metadata": {
  "kernelspec": {
   "display_name": "Python 3 (ipykernel)",
   "language": "python",
   "name": "python3"
  },
  "language_info": {
   "codemirror_mode": {
    "name": "ipython",
    "version": 3
   },
   "file_extension": ".py",
   "mimetype": "text/x-python",
   "name": "python",
   "nbconvert_exporter": "python",
   "pygments_lexer": "ipython3",
   "version": "3.12.1"
  }
 },
 "nbformat": 4,
 "nbformat_minor": 5
}
