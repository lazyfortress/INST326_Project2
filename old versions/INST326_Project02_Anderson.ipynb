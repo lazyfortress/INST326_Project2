{
 "cells": [
  {
   "cell_type": "markdown",
   "id": "bc00dbc1",
   "metadata": {},
   "source": [
    "### Project 02: Create a GUI Notebook Program"
   ]
  },
  {
   "cell_type": "markdown",
   "id": "b3f87ffb",
   "metadata": {},
   "source": [
    "Justin Anderson, 3-30-2024"
   ]
  },
  {
   "cell_type": "markdown",
   "id": "62110c98",
   "metadata": {},
   "source": [
    "Project 2 will adapt the procedural code we have been working on in INST326_SimpleGUI_Note_Form_IO.ipynb to create an OOP version of the program using three classes.\n",
    "\n",
    "    A Notebook or MainWindow class\n",
    "    A Form or TopWindow class\n",
    "    A Note class\n",
    "\n",
    "The MainWindow class is a subclass of Tkinter’s tk.Tk class and thus inherits its attributes and methods, while allowing us to customize the new window objects to our needs. These new window objects will represent “notebooks” or collections of notes, and allow us to work with those notes. (I have named it MainWindow because this class definition could be used to create any kind of main window in Tkinter. We are using it to represent notebooks in this application, but you might use it for other purposes in onther applications.)\n"
   ]
  },
  {
   "cell_type": "markdown",
   "id": "67692272",
   "metadata": {},
   "source": [
    "The TopWindow class creates a new top window in Tkinter, which is essentially a form for entering the title, text, links, and tags for our note. When we submit the note, this “form” object has a method that creates the note’s metadata and a new Note object. That note object is appended to the list of all notes, which is an attribute of the notebook (MainWindow) class.\n",
    "The Note class creates note objects that contain the  title, text, links, tags, and metadata for each note.\n",
    "\n",
    "For Project 02 you will:  \n",
    "\n",
    "    1. Create one notebook or MainWindow object  \n",
    "    2. Create several (at least 3) ‘real’ notes for your final submission. By ‘real’ I mean actual notes about python that are useful to you. Print them in the cell at the bottom of the notebook.\n",
    "    3. Save those notes to a single .txt, .csv, or .json file (your choice of format).  \n",
    "    4. Retrieve those notes and \n",
    "    5. Display representations of them as either labels or buttons in the  main window (remember how we displayed cards in project 01). These representations are not whole notes. Rather, they are object representations of the notes.  \n",
    "    6. When they are clicked the whole note pops up in a new window - either the form window or a ‘read-only’ version of the form window.\n",
    "\n"
   ]
  },
  {
   "cell_type": "markdown",
   "id": "cd7630c0",
   "metadata": {},
   "source": [
    "#### Complete your code in the cell below"
   ]
  },
  {
   "cell_type": "markdown",
   "id": "50f0a965",
   "metadata": {},
   "source": [
    "The code cell below contains the imports you will need; the top level structure for the three classes to get you started; and the execution code at the bottom. "
   ]
  },
  {
   "cell_type": "code",
   "execution_count": 4,
   "id": "57954c28",
   "metadata": {},
   "outputs": [],
   "source": [
    "import tkinter as tk\n",
    "from tkinter import ttk\n",
    "import datetime # one module for working with dates and times\n",
    "import json\n",
    "\n",
    "# The MainWindow class creates a custom GUI window based on the tkinter window (tk.Tk)\n",
    "# It has an __init__() method, and three additional methods (new_note(), open_notebook(), and save_notebook())\n",
    "# These methods correspond to new, open, and save buttons in the window.\n",
    "# The new_note method calls the NoteForm class to create a new note form top level window.\n",
    "\n",
    "class MainWindow(tk.Tk):\n",
    "    def __init__(self):  #initialize the main window\n",
    "        super().__init__() # initialize it as a tkinter window\n",
    "        \n",
    "        self.geometry(\"600x400\") # set the default window size\n",
    "        self.title('Notebook') #set the default window title\n",
    "        self.notebook = [] # initialize an attribute named 'notebook' as an empty list\n",
    "        self.notes = []        \n",
    "\n",
    "        # New note\n",
    "        ttk.Button(self, text=\"New Note\", command=self.new_note).pack()\n",
    "\n",
    "        # Save notebook\n",
    "        ttk.Button(self, text=\"Save Notebook\", command=self.save_notebook).pack()\n",
    "\n",
    "        # Open notebook\n",
    "        ttk.Button(self, text=\"Open Notebook\", command=self.open_notebook).pack()\n",
    "        \n",
    "    def new_note(self):\n",
    "        # New window\n",
    "        note_window = NoteForm(self, self.notes)\n",
    "        self.wait_window(note_window) \n",
    "\n",
    "    def save_notebook(self):\n",
    "        # Save notebook to json\n",
    "        with open('notebook.json', 'w') as file:\n",
    "            json.dump([note.to_dict() for note in self.notes], file, indent=4)\n",
    "\n",
    "    def open_notebook(self):\n",
    "        # Open json and load files\n",
    "        try:\n",
    "            with open('notebook.json', 'r') as file:\n",
    "                notes_data = json.load(file)\n",
    "                self.notes = [MakeNote(note) for note in notes_data]\n",
    "        except FileNotFoundError:\n",
    "            messagebox.showerror(\"Error\", \"File not found.\")\n",
    "\n",
    "\n",
    "# the NoteForm() class creates a Toplevel window that is a note form containing fields for\n",
    "# data entry for title, text, link, and tags. It also calculates a meta field with date, time, and timezone\n",
    "# the Noteform class has an __init__() method, and a submit() method that is called by a submit button\n",
    "# the class may contain additional methods to perform tasks like calculating the metadata, for example\n",
    "# the submit method calls the MakeNote class that transforms the the entered data into a new note object.\n",
    "\n",
    "class NoteForm(tk.Toplevel):\n",
    "    \n",
    "    def __init__(self, master, notes): # initialize the new object\n",
    "        super().__init__(master) # initialize it as a toplevel window\n",
    "        \n",
    "        self.notes = notes  # reference to notes list in MainWindow\n",
    "        self.geometry(\"300x200\") # half original window\n",
    "\n",
    "        self.title_entry = ttk.Entry(self)\n",
    "        self.title_entry.pack()\n",
    "        self.content_text = tk.Text(self, height=10)\n",
    "        self.content_text.pack()\n",
    "\n",
    "\n",
    "        ttk.Button(self, text=\"Submit\", command=self.submit).pack()\n",
    "\n",
    "        \n",
    "    '''def submit(self):\n",
    "        # add lines to the submit method\n",
    "        \n",
    "        new_note = MakeNote(note_dict)\n",
    "        self.notes.append(new_note)\n",
    "        print(self.notes)\n",
    "        return None'''\n",
    "\n",
    "    def submit(self):\n",
    "        note_dict = {\n",
    "            'title': self.title_entry.get(),\n",
    "            'content': self.content_text.get(\"1.0\", tk.END),\n",
    "            'date': str(datetime.datetime.now())\n",
    "        }\n",
    "        new_note = MakeNote(note_dict)\n",
    "        self.notes.append(new_note)  # Add new note to notes list\n",
    "        self.destroy()\n",
    "\n",
    "    \n",
    "# The MakeNote class takes a dictionary containing the data entered into the form window,\n",
    "# and transforms it into a new note object.\n",
    "# At present the note objects have attributes but no methods.\n",
    "\n",
    "class MakeNote():\n",
    "    def __init__(self, note_dict):\n",
    "        self.title = note_dict['title']\n",
    "        self.content = note_dict['content']\n",
    "        self.date = note_dict['date']\n",
    "\n",
    "    def to_dict(self):\n",
    "        # Convert note dictionary for JSON\n",
    "        return {'title': self.title, 'content': self.content, 'date': self.date}\n",
    "\n",
    "# main execution\n",
    "\n",
    "if __name__ == '__main__':\n",
    "    \n",
    "    main_window = MainWindow() \n",
    "\n",
    "    main_window.mainloop()"
   ]
  },
  {
   "cell_type": "markdown",
   "id": "c50d5149",
   "metadata": {},
   "source": [
    "#### Print your three notes below"
   ]
  },
  {
   "cell_type": "code",
   "execution_count": 2,
   "id": "dd1811bf",
   "metadata": {},
   "outputs": [
    {
     "data": {
      "text/plain": [
       "'import tkinter as tk\\n\\nroot = tk.Tk()\\n# Add widgets here\\nroot.mainloop()'"
      ]
     },
     "execution_count": 2,
     "metadata": {},
     "output_type": "execute_result"
    }
   ],
   "source": [
    "# To save to json:\n",
    "'''import json\n",
    "\n",
    "data = {'key': 'value'}  # Data to save\n",
    "with open('data.json', 'w') as f:\n",
    "    json.dump(data, f, indent=4)'''\n",
    "\n",
    "# Button display example\n",
    "'''def click():\n",
    "    print(\"\")\n",
    "\n",
    "thing = tk.Tk()\n",
    "button = tk.Button(thing, text=\"\", command=click)\n",
    "button.pack()'''\n",
    "\n",
    "# Keep window open and responsive to inputs with Tkinter:\n",
    "'''import tkinter as tk\n",
    "\n",
    "root = tk.Tk()\n",
    "# Add widgets here\n",
    "root.mainloop()'''\n"
   ]
  }
 ],
 "metadata": {
  "kernelspec": {
   "display_name": "Python 3 (ipykernel)",
   "language": "python",
   "name": "python3"
  },
  "language_info": {
   "codemirror_mode": {
    "name": "ipython",
    "version": 3
   },
   "file_extension": ".py",
   "mimetype": "text/x-python",
   "name": "python",
   "nbconvert_exporter": "python",
   "pygments_lexer": "ipython3",
   "version": "3.12.1"
  }
 },
 "nbformat": 4,
 "nbformat_minor": 5
}
